{
 "cells": [
  {
   "cell_type": "markdown",
   "id": "ed5f4fc7-af55-4948-ae73-bd7d5fa6275e",
   "metadata": {},
   "source": [
    "# Data Science Tools and Ecosystem"
   ]
  },
  {
   "cell_type": "markdown",
   "id": "5e7383a6-0698-4e9d-8b0f-2b4df905f100",
   "metadata": {},
   "source": [
    "In this notebook, Data Science Tools and Ecosystem are summarized."
   ]
  },
  {
   "cell_type": "markdown",
   "id": "67cba941-5a7f-4d35-987a-00357d334371",
   "metadata": {},
   "source": [
    "__Objectives:__\n",
    "\n",
    "- List popular languages for Data Science\n",
    "- List commonly used libraries for Data Science\n",
    "- Present 3 popular Data Science Tools in a table\n",
    "- Calculate a simple artihmetic expression, and\n",
    "- Convert minutes into hours"
   ]
  },
  {
   "cell_type": "markdown",
   "id": "e311513c-d677-4e15-9cf2-5c94d31d80bf",
   "metadata": {},
   "source": [
    "Some of the popular languages that Data Scientists use are:"
   ]
  },
  {
   "cell_type": "markdown",
   "id": "ae5c971f-0ee9-4f93-aa42-b55c7b4ad0d0",
   "metadata": {},
   "source": [
    "1. Python\n",
    "2. R\n",
    "3. SQL\n",
    "4. Java\n",
    "5. Scala\n",
    "6. Julia"
   ]
  },
  {
   "cell_type": "markdown",
   "id": "6da5b048-f4a8-478f-9709-0b6a803a729d",
   "metadata": {},
   "source": [
    "Some of the commonly used libraries used by Data Scientists include:\n",
    "\n",
    "1. Pandas\n",
    "2. Matplotlib\n",
    "3. ggplot2\n",
    "4. TensorFlow\n",
    "5. NumPy"
   ]
  },
  {
   "cell_type": "markdown",
   "id": "833c29a7-816a-41a8-91eb-fd64b72001fd",
   "metadata": {},
   "source": [
    "|Data Science Tools|\n",
    "--------------------\n",
    "Jupyter Notebook\n",
    "RStudio\n",
    "GitHub"
   ]
  },
  {
   "cell_type": "markdown",
   "id": "d3d3bbf4-02be-4e38-acfd-68c2bf650769",
   "metadata": {},
   "source": [
    "### Below are a few examples of evaluating arithmetic expressions in Python"
   ]
  },
  {
   "cell_type": "code",
   "execution_count": 24,
   "id": "a6e28746-0607-4748-8d3c-4a3ddacc7528",
   "metadata": {},
   "outputs": [
    {
     "name": "stdout",
     "output_type": "stream",
     "text": [
      "This is a simple artihmetic expression to multiply then add integers\n"
     ]
    },
    {
     "data": {
      "text/plain": [
       "17"
      ]
     },
     "execution_count": 24,
     "metadata": {},
     "output_type": "execute_result"
    }
   ],
   "source": [
    "print(\"This is a simple artihmetic expression to multiply then add integers\")\n",
    "\n",
    "(3*4)+5"
   ]
  },
  {
   "cell_type": "code",
   "execution_count": 28,
   "id": "0e1cdaa3-3129-44a1-a011-0962035f1e43",
   "metadata": {},
   "outputs": [
    {
     "name": "stdout",
     "output_type": "stream",
     "text": [
      "This will convert 200 minutes to hours by dividing by 60\n"
     ]
    },
    {
     "data": {
      "text/plain": [
       "3.3333333333333335"
      ]
     },
     "execution_count": 28,
     "metadata": {},
     "output_type": "execute_result"
    }
   ],
   "source": [
    "print(\"This will convert 200 minutes to hours by dividing by 60\")\n",
    "\n",
    "200/60"
   ]
  },
  {
   "cell_type": "markdown",
   "id": "53e8b990-82a6-4c67-9c91-b41ad4d362e6",
   "metadata": {},
   "source": [
    "## Author\n",
    "\n",
    "Ash P."
   ]
  }
 ],
 "metadata": {
  "kernelspec": {
   "display_name": "Python 3 (ipykernel)",
   "language": "python",
   "name": "python3"
  },
  "language_info": {
   "codemirror_mode": {
    "name": "ipython",
    "version": 3
   },
   "file_extension": ".py",
   "mimetype": "text/x-python",
   "name": "python",
   "nbconvert_exporter": "python",
   "pygments_lexer": "ipython3",
   "version": "3.12.4"
  }
 },
 "nbformat": 4,
 "nbformat_minor": 5
}
